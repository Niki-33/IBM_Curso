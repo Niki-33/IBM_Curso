{
 "cells": [
  {
   "cell_type": "markdown",
   "metadata": {},
   "source": [
    "<center>\n",
    "    <img src=\"https://cf-courses-data.s3.us.cloud-object-storage.appdomain.cloud/IBMDeveloperSkillsNetwork-DS0105EN-SkillsNetwork/labs/Module2/images/SN_web_lightmode.png\" width=\"300\" alt=\"cognitiveclass.ai logo\">\n",
    "</center>\n"
   ]
  },
  {
   "cell_type": "markdown",
   "metadata": {},
   "source": [
    "#### Add your code below following the instructions given in the course\n"
   ]
  },
  {
   "cell_type": "markdown",
   "metadata": {},
   "source": [
    "# Cuaderno de Ciencia de Datos"
   ]
  },
  {
   "cell_type": "markdown",
   "metadata": {},
   "source": [
    "## Introducción"
   ]
  },
  {
   "cell_type": "markdown",
   "metadata": {},
   "source": [
    "## Lenguajes de Programación en Ciencia de Datos\n",
    "\n",
    "1. Python  \n",
    "2. R  \n",
    "3. SQL  \n",
    "4. Java  \n",
    "5. Julia  \n",
    "6. Scala  \n",
    "7. C++  "
   ]
  },
  {
   "cell_type": "code",
   "execution_count": null,
   "metadata": {},
   "outputs": [],
   "source": []
  },
  {
   "cell_type": "markdown",
   "metadata": {},
   "source": [
    "## Bibliotecas comunes en Ciencia de Datos\n",
    "\n",
    "- Pandas  \n",
    "- NumPy  \n",
    "- Matplotlib  \n",
    "- Seaborn  \n",
    "- Scikit-learn  \n",
    "- TensorFlow  \n",
    "- Keras  "
   ]
  },
  {
   "cell_type": "markdown",
   "metadata": {},
   "source": [
    "\n",
    "## Herramientas de Ciencia de Datos\n",
    "\n",
    "| Herramienta       | Tipo                 |\n",
    "|-------------------|----------------------|\n",
    "| Jupyter Notebook  | Entorno interactivo  |\n",
    "| RStudio           | IDE para R           |\n",
    "| VS Code           | Editor de código     |\n",
    "| Git               | Control de versiones |\n",
    "| Tableau           | Visualización        |\n"
   ]
  },
  {
   "cell_type": "markdown",
   "metadata": {},
   "source": [
    "## Ejemplos de Expresiones Aritméticas\n",
    "\n",
    "- `3 + 7`  \n",
    "- `3 - 5`  \n",
    "- `3 * 6`  \n",
    "- `35 / 5` "
   ]
  },
  {
   "cell_type": "code",
   "execution_count": 1,
   "metadata": {},
   "outputs": [
    {
     "name": "stdout",
     "output_type": "stream",
     "text": [
      "Resultado de la suma: 8\n",
      "Resultado de la multiplicación: 35\n"
     ]
    }
   ],
   "source": [
    "# Ejercicio 8\n",
    "suma = 4 + 4\n",
    "multiplicacion = 5 * 7\n",
    "\n",
    "print(\"Resultado de la suma:\", suma)\n",
    "print(\"Resultado de la multiplicación:\", multiplicacion)"
   ]
  },
  {
   "cell_type": "code",
   "execution_count": 2,
   "metadata": {},
   "outputs": [
    {
     "name": "stdout",
     "output_type": "stream",
     "text": [
      "120 minutos equivalen a 2.0 horas.\n"
     ]
    }
   ],
   "source": [
    "# Ejercicio 9\n",
    "minutos = 120\n",
    "horas = minutos / 60\n",
    "\n",
    "print(f\"{minutos} minutos equivalen a {horas} horas.\")"
   ]
  },
  {
   "cell_type": "code",
   "execution_count": 3,
   "metadata": {},
   "outputs": [
    {
     "name": "stdout",
     "output_type": "stream",
     "text": [
      "- Comprender conceptos básicos de ciencia de datos\n",
      "- Practicar expresiones aritméticas en Python\n",
      "- Familiarizarse con herramientas y bibliotecas clave\n"
     ]
    }
   ],
   "source": [
    "# Ejercicio 10 - Lista de Objetivos\n",
    "objetivos = [\n",
    "    \"Comprender conceptos básicos de ciencia de datos\",\n",
    "    \"Practicar expresiones aritméticas en Python\",\n",
    "    \"Familiarizarse con herramientas y bibliotecas clave\"\n",
    "]\n",
    "\n",
    "for objetivo in objetivos:\n",
    "    print(\"- \" + objetivo)"
   ]
  },
  {
   "cell_type": "markdown",
   "metadata": {},
   "source": [
    "## Autor\n",
    "\n",
    "Nombre del autor: *[Donna Gutierrez]*"
   ]
  },
  {
   "cell_type": "code",
   "execution_count": null,
   "metadata": {},
   "outputs": [],
   "source": []
  }
 ],
 "metadata": {
  "kernelspec": {
   "display_name": "Python 3 (ipykernel)",
   "language": "python",
   "name": "python3"
  },
  "language_info": {
   "codemirror_mode": {
    "name": "ipython",
    "version": 3
   },
   "file_extension": ".py",
   "mimetype": "text/x-python",
   "name": "python",
   "nbconvert_exporter": "python",
   "pygments_lexer": "ipython3",
   "version": "3.12.8"
  }
 },
 "nbformat": 4,
 "nbformat_minor": 4
}
